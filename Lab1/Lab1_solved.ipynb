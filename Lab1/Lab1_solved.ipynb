{
  "cells": [
    {
      "cell_type": "markdown",
      "id": "23b6b719",
      "metadata": {
        "id": "23b6b719"
      },
      "source": [
        "# Introduction to PyTorch"
      ]
    },
    {
      "cell_type": "markdown",
      "id": "encouraging-percentage",
      "metadata": {
        "id": "encouraging-percentage"
      },
      "source": [
        "### Basic PyTorch Funtions"
      ]
    },
    {
      "cell_type": "code",
      "execution_count": 105,
      "id": "allied-teacher",
      "metadata": {
        "id": "allied-teacher",
        "colab": {
          "base_uri": "https://localhost:8080/"
        },
        "outputId": "da40d74a-3dc1-4bbe-af54-289efe6ea32b"
      },
      "outputs": [
        {
          "output_type": "stream",
          "name": "stdout",
          "text": [
            "tensor([[ 0.,  2.,  4.],\n",
            "        [ 6.,  8., 10.]])\n",
            "torch.Size([2, 3])\n",
            "----------------------\n",
            "tensor([[0.3571, 0.3358, 0.7290],\n",
            "        [0.9105, 0.4581, 0.6129]])\n",
            "torch.Size([2, 3])\n"
          ]
        }
      ],
      "source": [
        "# let's get familiar with some basic PyTorch funtions\n",
        "import torch\n",
        "# TYPO ON ORIGINAL NOTEBOOK 2x3 not 2x6\n",
        "# define a float Tensor with even numbers of size 2x3 (odd numbers would be 2.*i+1.)\n",
        "x1 = torch.tensor([2.*i for i in range(6)]).reshape(2,3)\n",
        "\n",
        "\n",
        "# define a tensor intialized from a uniform distribution of size 2x3\n",
        "x2 = torch.rand(2,3) #randn from NORMAL distribution\n",
        "\n",
        "# inspect the shapes of the tensors\n",
        "print(x1)\n",
        "print(x1.shape)\n",
        "\n",
        "print(\"----------------------\")\n",
        "\n",
        "print(x2)\n",
        "print(x2.shape)"
      ]
    },
    {
      "cell_type": "code",
      "execution_count": 91,
      "id": "settled-auditor",
      "metadata": {
        "id": "settled-auditor",
        "colab": {
          "base_uri": "https://localhost:8080/"
        },
        "outputId": "c2869e8e-c4ab-4a97-c6d1-0c32796f0e90"
      },
      "outputs": [
        {
          "output_type": "stream",
          "name": "stdout",
          "text": [
            "tensor([[ 0.0585,  2.2091,  4.3491],\n",
            "        [ 6.6473,  8.1663, 10.6910]])\n"
          ]
        }
      ],
      "source": [
        "# add these tensors together.\n",
        "result = x1+x2\n",
        "print(result)\n",
        "\n",
        "#Perform other operations such as multiplication or division (element-wise)\n",
        "multiplication = x1*x2 #element-wise, for matrix multiplication see below\n",
        "division = x1/x2 #element-wise"
      ]
    },
    {
      "cell_type": "code",
      "execution_count": 92,
      "id": "likely-plant",
      "metadata": {
        "id": "likely-plant",
        "colab": {
          "base_uri": "https://localhost:8080/"
        },
        "outputId": "40f6abf8-2d85-43bd-918e-029dbb8e22cf"
      },
      "outputs": [
        {
          "output_type": "stream",
          "name": "stdout",
          "text": [
            "tensor(32.1212)\n"
          ]
        }
      ],
      "source": [
        "# sum the total values in the resulting tensor\n",
        "total_sum = torch.sum(result) #adds up all the elements of tensor, you can use argument dim= to sum in only one dimension\n",
        "\n",
        "#get the mean value\n",
        "mean_value =torch.mean(result) # same for argument dim=0 or 1, averages in 1 dimension"
      ]
    },
    {
      "cell_type": "code",
      "execution_count": 81,
      "id": "suspended-thunder",
      "metadata": {
        "id": "suspended-thunder",
        "colab": {
          "base_uri": "https://localhost:8080/"
        },
        "outputId": "48b2c10f-549e-429e-f31f-6cb5d0b0c5f0"
      },
      "outputs": [
        {
          "output_type": "stream",
          "name": "stdout",
          "text": [
            "torch.Size([3]) torch.Size([2])\n"
          ]
        }
      ],
      "source": [
        "# dim=0 for columns dim=1 for rows\n",
        "# sum across colums (use torch.sum())\n",
        "col_sum = torch.sum(result, dim=0)\n",
        "# sum across rows\n",
        "row_sum = torch.sum(result, dim=1)\n",
        "\n",
        "#check if size is correct\n",
        "print(col_sum.shape, row_sum.shape)"
      ]
    },
    {
      "cell_type": "code",
      "execution_count": 82,
      "id": "legislative-partition",
      "metadata": {
        "id": "legislative-partition"
      },
      "outputs": [],
      "source": [
        "# get the power of 2 of the resulting tensor\n",
        "result_pow= result**2"
      ]
    },
    {
      "cell_type": "code",
      "execution_count": 83,
      "id": "j5hPcp02Jogb",
      "metadata": {
        "id": "j5hPcp02Jogb",
        "colab": {
          "base_uri": "https://localhost:8080/"
        },
        "outputId": "5f65082c-dd8f-4f77-f3a7-11b0bfbd1811"
      },
      "outputs": [
        {
          "output_type": "stream",
          "name": "stdout",
          "text": [
            "tensor([[0.4360, 0.2179],\n",
            "        [0.2403, 0.8066],\n",
            "        [0.1585, 0.5551]])\n",
            "\n",
            "tensor([[0.0000, 1.4758, 3.8765],\n",
            "        [4.5179, 6.5556, 0.2976]])\n",
            "tensor([[0.0000, 1.4758, 3.8765],\n",
            "        [4.5179, 6.5556, 0.2976]])\n",
            "tensor([[ 1.1145,  3.8336],\n",
            "        [ 6.1233, 13.3115]])\n",
            "tensor([[ 1.1145,  3.8336],\n",
            "        [ 6.1233, 13.3115]])\n"
          ]
        }
      ],
      "source": [
        "# compute the element-wise and matrix product of these two tensors.\n",
        "x3 = torch.rand(3,2)\n",
        "print(x3)\n",
        "print()\n",
        "\n",
        "# ONLY VECTORS\n",
        "#torch.dot() (1D tensors)\n",
        "#torch.dot(x1,x2) will return error\n",
        "\n",
        "#ELEMENT_WISE TENSOR MULTIPLICATION\n",
        "# * == torch.mul()\n",
        "print(x1 * x2)\n",
        "\n",
        "# tensor times other (equivalent to element wise)\n",
        "print(torch.mul(x1,x2))\n",
        "\n",
        "# TENSOR PRODUCT\n",
        "# @ == torch.matmul()\n",
        "\n",
        "#matmul ->  (depends on dimensionality)\n",
        "# print(torch.matmul(x1,x2)) error -> not right size\n",
        "print(x1 @ x3)\n",
        "print(torch.matmul(x1,x3))"
      ]
    },
    {
      "cell_type": "code",
      "execution_count": 102,
      "id": "x-598Tl2Ruob",
      "metadata": {
        "id": "x-598Tl2Ruob",
        "colab": {
          "base_uri": "https://localhost:8080/"
        },
        "outputId": "9abb94d4-d1e2-4d44-8cd6-261af2fa99c1"
      },
      "outputs": [
        {
          "output_type": "stream",
          "name": "stdout",
          "text": [
            "torch.Size([6]) torch.Size([6])\n",
            "tensor(13.9383)\n"
          ]
        }
      ],
      "source": [
        "# can you compute the dot product betweeen x1 and x2? what if you use the reshape (or view) function first?)\n",
        "## dot product not direclty -> only for 1D matrices (i.e. vectors, reshape to 1x6 first then compute dot product) see below:\n",
        "x1_reshape = x1.reshape(6,)\n",
        "x2_reshape = x2.reshape(-1,)\n",
        "print(x1_reshape.shape,x2_reshape.shape)\n",
        "dotprod = torch.dot(x1_reshape,x2_reshape)\n",
        "print(dotprod)"
      ]
    },
    {
      "cell_type": "code",
      "execution_count": 88,
      "id": "continuing-minnesota",
      "metadata": {
        "id": "continuing-minnesota",
        "colab": {
          "base_uri": "https://localhost:8080/"
        },
        "outputId": "748fedbe-87bc-423b-b787-13226ff3c251"
      },
      "outputs": [
        {
          "output_type": "stream",
          "name": "stdout",
          "text": [
            "[[ 0.  2.  4.]\n",
            " [ 6.  8. 10.]]\n",
            "tensor([[ 0.,  2.,  4.],\n",
            "        [ 6.,  8., 10.]])\n"
          ]
        }
      ],
      "source": [
        "# convert the PyTorch Tensor to a numpy array, and then back from numpy to PyTorch using .numpy() and .from_numpy() torch functions\n",
        "np_result = x1.numpy()\n",
        "pytorch_from_np = torch.from_numpy(np_result)\n",
        "print(np_result)\n",
        "print(pytorch_from_np)"
      ]
    }
  ],
  "metadata": {
    "colab": {
      "provenance": []
    },
    "kernelspec": {
      "display_name": "Python 3 (ipykernel)",
      "language": "python",
      "name": "python3"
    },
    "language_info": {
      "codemirror_mode": {
        "name": "ipython",
        "version": 3
      },
      "file_extension": ".py",
      "mimetype": "text/x-python",
      "name": "python",
      "nbconvert_exporter": "python",
      "pygments_lexer": "ipython3",
      "version": "3.11.2"
    }
  },
  "nbformat": 4,
  "nbformat_minor": 5
}