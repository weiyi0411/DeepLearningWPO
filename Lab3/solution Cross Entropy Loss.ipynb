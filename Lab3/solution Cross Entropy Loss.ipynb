{
 "cells": [
  {
   "cell_type": "code",
   "execution_count": 1,
   "id": "8c44c711",
   "metadata": {},
   "outputs": [],
   "source": [
    "from __future__ import absolute_import, division, print_function\n",
    "from sklearn.datasets import load_digits\n",
    "import matplotlib.pyplot as plt \n",
    "import numpy as np\n",
    "%matplotlib inline\n",
    "import torch\n",
    "import torch.nn as nn\n",
    "import torch.nn.functional as func\n",
    "import torch.optim as optim"
   ]
  },
  {
   "cell_type": "code",
   "execution_count": 2,
   "id": "27fda773",
   "metadata": {},
   "outputs": [],
   "source": [
    "def logsumexp(vec):\n",
    "    max_score, _ = vec.max(dim=0) \n",
    "    lse = max_score + torch.log(torch.sum(torch.exp(vec - max_score)))\n",
    "    return lse\n",
    "\n",
    "def loss_plain_softmax(x1,index):\n",
    "    return torch.log(torch.exp(x1[index])/(torch.exp(x1).sum()))\n",
    "\n",
    "def loss_logsumexp(x1,index):\n",
    "    return x1[index]-torch.log(torch.exp(x1).sum())\n",
    "\n",
    "def loss_logsumexp_stable(x1,index):\n",
    "    return x1[index] -torch.logsumexp(x1,0)\n",
    "\n",
    "def loss_logsumexp_stable_own(x1,index):\n",
    "    return x1[index] -logsumexp(x1)\n",
    "\n",
    "def compute_crossentropyloss_manual(func,x,y0):\n",
    "    \"\"\"\n",
    "    x is the vector with shape (batch_size,C)\n",
    "    y0 shape is the same (batch_size), whose entries are integers from 0 to C-1\n",
    "    C are the classes\n",
    "    func is the name of the function, e.g., loss_logsumexp that you will call\n",
    "    \"\"\"\n",
    "    loss = 0.\n",
    "    n_batch, n_class = x.shape\n",
    "    for x1,y1 in zip(x,y0):        \n",
    "        \n",
    "        loss = loss + func(x1,y1)\n",
    "    loss = - loss/n_batch\n",
    "    return loss\n",
    "\n",
    "def compute_percentage_loss(loss_name,uni_s,uni_e):\n",
    "    #torch.manual_seed(0)\n",
    "    precision = 3\n",
    "    batch_size=10\n",
    "    C = 15\n",
    "    N_iter = 100\n",
    "    n_correct_CE = 0\n",
    "    criterion2 = nn.CrossEntropyLoss()\n",
    "    for i in range(N_iter):\n",
    "        x = torch.rand(size=(batch_size,C)).uniform_(uni_s,uni_e).to(torch.float)   \n",
    "        y0 = torch.randint(0,C,size=(batch_size,))\n",
    "        CEloss = criterion2(x,y0)\n",
    "        manual_CEloss = compute_crossentropyloss_manual(loss_name,x,y0)\n",
    "        if i==0:\n",
    "            print('CrossEntropyLoss:')\n",
    "            print('module:%s'%(str(CEloss)))\n",
    "            print('manual:%s'%(str(manual_CEloss)))\n",
    "\n",
    "\n",
    "        CE_loss_check = np.abs((CEloss- manual_CEloss).item())<10**-precision\n",
    "        if CE_loss_check: n_correct_CE+=1\n",
    "\n",
    "    print('percentage CELoss correctly computed :%s'%(str(n_correct_CE/N_iter*100)))"
   ]
  },
  {
   "cell_type": "code",
   "execution_count": 3,
   "id": "5ff95219",
   "metadata": {},
   "outputs": [
    {
     "name": "stdout",
     "output_type": "stream",
     "text": [
      "CrossEntropyLoss:\n",
      "module:tensor(2.6885)\n",
      "manual:tensor(2.6885)\n",
      "percentage CELoss correctly computed :100.0\n",
      "CrossEntropyLoss:\n",
      "module:tensor(2.7132)\n",
      "manual:tensor(2.7132)\n",
      "percentage CELoss correctly computed :100.0\n",
      "CrossEntropyLoss:\n",
      "module:tensor(2.7239)\n",
      "manual:tensor(2.7239)\n",
      "percentage CELoss correctly computed :100.0\n",
      "CrossEntropyLoss:\n",
      "module:tensor(2.6372)\n",
      "manual:tensor(2.6372)\n",
      "percentage CELoss correctly computed :100.0\n"
     ]
    }
   ],
   "source": [
    "# Compute the percentage loss when the uniform distribution takes values \n",
    "#between 0 and 1 \n",
    "start=0\n",
    "end=1\n",
    "compute_percentage_loss(loss_plain_softmax,start,end)\n",
    "compute_percentage_loss(loss_logsumexp,start,end)\n",
    "compute_percentage_loss(loss_logsumexp_stable,start,end)\n",
    "compute_percentage_loss(loss_logsumexp_stable_own,start,end)"
   ]
  },
  {
   "cell_type": "code",
   "execution_count": 4,
   "id": "f8dc6910",
   "metadata": {},
   "outputs": [
    {
     "name": "stdout",
     "output_type": "stream",
     "text": [
      "CrossEntropyLoss:\n",
      "module:tensor(40.1088)\n",
      "manual:tensor(inf)\n",
      "percentage CELoss correctly computed :0.0\n",
      "CrossEntropyLoss:\n",
      "module:tensor(53.3572)\n",
      "manual:tensor(inf)\n",
      "percentage CELoss correctly computed :0.0\n",
      "CrossEntropyLoss:\n",
      "module:tensor(53.9245)\n",
      "manual:tensor(53.9245)\n",
      "percentage CELoss correctly computed :100.0\n",
      "CrossEntropyLoss:\n",
      "module:tensor(47.3778)\n",
      "manual:tensor(47.3778)\n",
      "percentage CELoss correctly computed :100.0\n"
     ]
    }
   ],
   "source": [
    "# Compute the percentage loss when the uniform distribution takes values \n",
    "#between 0 and 100 \n",
    "start=0\n",
    "end=100\n",
    "compute_percentage_loss(loss_plain_softmax,start,end)\n",
    "compute_percentage_loss(loss_logsumexp,start,end)\n",
    "compute_percentage_loss(loss_logsumexp_stable,start,end)\n",
    "compute_percentage_loss(loss_logsumexp_stable_own,start,end)"
   ]
  },
  {
   "cell_type": "code",
   "execution_count": null,
   "id": "f4e5f1e6",
   "metadata": {},
   "outputs": [],
   "source": []
  },
  {
   "cell_type": "code",
   "execution_count": null,
   "id": "95b4504b",
   "metadata": {},
   "outputs": [],
   "source": []
  }
 ],
 "metadata": {
  "kernelspec": {
   "display_name": "Python 3",
   "language": "python",
   "name": "python3"
  },
  "language_info": {
   "codemirror_mode": {
    "name": "ipython",
    "version": 3
   },
   "file_extension": ".py",
   "mimetype": "text/x-python",
   "name": "python",
   "nbconvert_exporter": "python",
   "pygments_lexer": "ipython3",
   "version": "3.6.9"
  }
 },
 "nbformat": 4,
 "nbformat_minor": 5
}
