{
  "cells": [
    {
      "cell_type": "markdown",
      "source": [
        "# Student Name:*Weiyi Wang*\n",
        "\n",
        "\n",
        "\n",
        "\n",
        "# Student Number:*0595445 *"
      ],
      "metadata": {
        "id": "XOL1dzioF_2o"
      }
    },
    {
      "cell_type": "markdown",
      "metadata": {
        "id": "jibnzCQPZ8F4"
      },
      "source": [
        "## Step 1: Dataset loading"
      ]
    },
    {
      "cell_type": "code",
      "execution_count": null,
      "metadata": {
        "id": "1IRUi8dBZ8F9"
      },
      "outputs": [],
      "source": [
        "from __future__ import absolute_import, division, print_function\n",
        "from sklearn.datasets import load_digits\n",
        "import matplotlib.pyplot as plt\n",
        "import numpy as np\n",
        "# from sklearn.preprocessing import OneHotEncode\n",
        "!pip install sklearn.preprocessing\n",
        "from sklearn.preprocessing import OneHotEncoder\n",
        "%matplotlib inline\n",
        "\n",
        "# load digits dataset with 5 classes. The dataset has 10 classes in total.\n",
        "# You can change the amount of data as you like.\n",
        "num_classes = 5\n",
        "digits = load_digits(n_class=num_classes)\n",
        "x = digits.data\n",
        "y = digits.target\n",
        "n_samples, n_features = x.shape\n",
        "\n",
        "print(\"data shape: \",x.shape)\n",
        "print(\"class shape: \",y.shape)\n",
        "\n",
        "N_train = int(0.8 * x.shape[0])\n",
        "x_train = x[:N_train,:]\n",
        "y_train = y[:N_train]\n",
        "x_test = x[N_train:,:]\n",
        "y_test = y[N_train:]\n",
        "\n",
        "# Add the bias term as a 1-column vector\n",
        "x_train =np.hstack((x_train, np.ones((x_train.shape[0], 1))))# Your code\n",
        "x_test =np.hstack((x_test, np.ones((x_test.shape[0], 1))))# Your codeß\n",
        "#hstack is horizontally stack a column vector of ones to the right of your feature matrix,\n",
        "#effectively adding a bias term to each data point.\n",
        "#np.ones is used to create an array or matrix containing a specified number of ones\n",
        "\n",
        "# Convert labels to one-hot vector.\n",
        "# One hot vectors are vectors of size n_samples x n_classes\n",
        "# On each row, all values are 0 except on the index of the corresponding class (which is 1)\n",
        "# In a classification task of apples vs. pears vs. oranges. An apple would have a one-hot vector of (1 0 0), a pear would have a one-hot vector encoding of (0 1 0) and orange as (0 0 1)ß\n",
        "# y_train_onehot = # Your code here\n",
        "# Create the one-hot encoder\n",
        "encoder = OneHotEncoder(sparse=False)\n",
        "\n",
        "# Fit and transform the training labels\n",
        "y_train_onehot = encoder.fit_transform(y_train.reshape(-1, 1))\n",
        "\n",
        "# Transform the test labels\n",
        "y_test_onehot = encoder.transform(y_test.reshape(-1, 1))"
      ]
    },
    {
      "cell_type": "markdown",
      "metadata": {
        "id": "Sy70m71CZ8GB"
      },
      "source": [
        "When using a sigmoid activation with one-hot labels for classification, the network outputs a probability for each possible class. This is a clear advantage over using the original form of labels. For example, when the network predicts a sample as number 1 and number 3 with 50% and 40% probabilities, respectively, we know that the sample could be a number 3, but it will be more likely to be a number 1. If we don't use one-hot encoding, the output would then likely be in the range of number 2, which would be completely wrong.\n",
        "\n",
        "Check whether your one-hot conversion above is correct or not by the following"
      ]
    },
    {
      "cell_type": "code",
      "execution_count": 8,
      "metadata": {
        "colab": {
          "base_uri": "https://localhost:8080/"
        },
        "id": "VrdZmG66Z8GC",
        "outputId": "10e25563-90d2-4d58-96c7-5ed5260f6d73"
      },
      "outputs": [
        {
          "output_type": "stream",
          "name": "stdout",
          "text": [
            "[0 1 2 3 4]\n",
            "[[1. 0. 0. 0. 0.]\n",
            " [0. 1. 0. 0. 0.]\n",
            " [0. 0. 1. 0. 0.]\n",
            " [0. 0. 0. 1. 0.]\n",
            " [0. 0. 0. 0. 1.]]\n"
          ]
        }
      ],
      "source": [
        "print(y_train[:5])\n",
        "print(y_train_onehot[:5])"
      ]
    },
    {
      "cell_type": "markdown",
      "metadata": {
        "id": "EWUJtF7TZ8GD"
      },
      "source": [
        "## Step 2: Forward computation"
      ]
    },
    {
      "cell_type": "markdown",
      "metadata": {
        "id": "o5_Qbm6TZ8GE"
      },
      "source": [
        "Most deep learning frameworks provide a list of basic functions as building blocks, such as fully_connected, sigmoid, relu... so that you can stack them sequentially as layers to build your own neural networks. In this exercise, we will see implement the fully connected layer and the sigmoid activation function. In each function, we will return the result and the cache the input for backward computation later"
      ]
    },
    {
      "cell_type": "code",
      "execution_count": 9,
      "metadata": {
        "id": "EPeoZqMPZ8GE"
      },
      "outputs": [],
      "source": [
        "# this function returns the probability of y=1\n",
        "def sigmoid(x):\n",
        "    cache = x\n",
        "    result = 1.0/(1 + np.exp(-x))#Computes the output of the sigmoid function, a nonlinear function that maps inputs to values between 0 and 1.\n",
        "    return cache, result\n",
        "\n",
        "def fully_connected(x, theta): # performs a foward operation of x times \\theta\n",
        "    cache = (x, theta)\n",
        "    result = np.dot(x, theta)# Your code\n",
        "    return cache, result"
      ]
    },
    {
      "cell_type": "markdown",
      "metadata": {
        "id": "tDFur0onZ8GF"
      },
      "source": [
        "After having our building blocks, we can start stacking layers."
      ]
    },
    {
      "cell_type": "code",
      "execution_count": 50,
      "metadata": {
        "id": "qmDrLxKPZ8GG"
      },
      "outputs": [],
      "source": [
        "def compute_forward(x, theta_matrices):\n",
        "    '''\n",
        "    x: feature vector\n",
        "    theta_matrices: The list contains all theta. The first element is the theta (matrix) of the input layer and the first hidden\n",
        "    layer, the second one is the theta of the fist hidden layer and the second hidden layer, and so on\n",
        "\n",
        "    In this exercise, our network architecture will be:\n",
        "    input -> fully_connected -> sigmoid -> fully_connected -> sigmoid -> output\n",
        "    You don't need to use regularization in this exercise\n",
        "    '''\n",
        "    result = x\n",
        "    cache = dict()\n",
        "    for i, theta in enumerate(theta_matrices) :\n",
        "        ## Your code here, should be a result of a fully_connected layer then a sigmoid activation.\n",
        "        # Store the result of each computation in cache, for doing backprop later.\n",
        "        # For this exercise, cache should have four items with keys: fc0, sigmoid0, fc1, sigmoid1\n",
        "        fc = fully_connected(result, theta)[1]\n",
        "        sigmoid_output = sigmoid(fc)[1]#只需要那个result所以加个[1]\n",
        "        # Store the results and intermediate values in the cache\n",
        "        cache[f'fc{i}'] = result, theta\n",
        "        cache[f'sigmoid{i}'] = fc\n",
        "        result = sigmoid_output\n",
        "    return cache, result\n",
        "\n",
        "def compute_cost(outputs, labels):\n",
        "    '''mean square error'''\n",
        "    result = np.sum((outputs - labels) ** 2) / (2 * labels.shape[0])## Your code\n",
        "    return result"
      ]
    },
    {
      "cell_type": "markdown",
      "metadata": {
        "id": "pcxTmBAYZ8GH"
      },
      "source": [
        "### Initialize theta and check the output shape"
      ]
    },
    {
      "cell_type": "code",
      "execution_count": 51,
      "metadata": {
        "colab": {
          "base_uri": "https://localhost:8080/"
        },
        "id": "ri7FwnPgZ8GI",
        "outputId": "a83757d9-6121-4487-80a8-ff7b4de94956"
      },
      "outputs": [
        {
          "output_type": "stream",
          "name": "stdout",
          "text": [
            "forward pass returns correct shape\n",
            "0.6734417669357058\n"
          ]
        }
      ],
      "source": [
        "num_hidden = 100\n",
        "theta0 = np.random.normal(loc=0., scale=0.5, size=(n_features+1, num_hidden+1)) # + 1 for bias term\n",
        "theta1 = np.random.normal(loc=0., scale=0.5, size=(num_hidden+1, num_classes))\n",
        "theta_matrices = [theta0, theta1]\n",
        "cache, initial_outputs = compute_forward(x_train, theta_matrices)\n",
        "assert initial_outputs.shape == y_train_onehot.shape, 'forward pass returns wrong shape'\n",
        "print('forward pass returns correct shape')\n",
        "initial_cost = compute_cost(initial_outputs, y_train_onehot)\n",
        "print(initial_cost)#difference between target and output"
      ]
    },
    {
      "cell_type": "markdown",
      "metadata": {
        "id": "q3aHwHEUZ8GJ"
      },
      "source": [
        "## Step 3: Backpropagation"
      ]
    },
    {
      "cell_type": "markdown",
      "metadata": {
        "id": "vknQW4XDZ8GJ"
      },
      "source": [
        "Similar to forward pass, calculating backward gradient using backpropagation is just like stacking several layers of gradient together. To do so, we first need to calculate the gradient of each of our building blocks."
      ]
    },
    {
      "cell_type": "code",
      "execution_count": 45,
      "metadata": {
        "id": "piT2HdgCZ8GJ"
      },
      "outputs": [],
      "source": [
        "def sigmoid_backward(cache, result):\n",
        "    x = cache#是前向传播中保存的 Sigmoid 激活函数的输入值\n",
        "    sigmoid_grad = sigmoid(x)[1] * (1 - sigmoid(x)[1])\n",
        "    return sigmoid_grad * result #result is 反向传播的上游梯度。\n",
        "\n",
        "def fc_backward(cache, result):\n",
        "    x, theta = cache\n",
        "    theta_grad = x.T.dot(result)\n",
        "    x_grad = result.dot(theta.T)\n",
        "    return x_grad, theta_grad\n",
        "\n",
        "def cost_backward(outputs, labels):\n",
        "    error = outputs - labels\n",
        "    gradient = error / (2 * labels.shape[0])\n",
        "    return gradient\n",
        "    ## your code"
      ]
    },
    {
      "cell_type": "code",
      "execution_count": 46,
      "metadata": {
        "id": "JL4FTLwwZ8GK"
      },
      "outputs": [],
      "source": [
        "def compute_backprop(x, theta_matrices, cache, outputs, labels):\n",
        "    '''\n",
        "    return gradients for theta_matrices\n",
        "    '''\n",
        "    theta_grad = {} # should include two key theta0 and theta1 for this exercise\n",
        "    grad = cost_backward(outputs, labels)\n",
        "    for i, theta in enumerate(theta_matrices[::-1]):\n",
        "        layer = len(theta_matrices) - i - 1 # first iteration: layer 1, second iter: layer 0\n",
        "        # Your code, first you need to propagate the gradient through the sigmoid activation,\n",
        "        # then through the fully_connected layer\n",
        "        sigmoid_grad = sigmoid_backward(cache[f'sigmoid{layer}'], grad)#caulate the sigmoid layer'gradient\n",
        "        # 反向传播梯度通过全连接层\n",
        "        x_grad, theta_grad[f'theta{layer}'] = fc_backward(cache[f'fc{layer}'], sigmoid_grad)\n",
        "        # theta_grad[f'theta{layer}']= fc_backward(cache(f'fc{layer}', sigmoid_grad)[1]\n",
        "        grad = x_grad\n",
        "    return theta_grad"
      ]
    },
    {
      "cell_type": "markdown",
      "metadata": {
        "id": "L0DrEyV6Z8GK"
      },
      "source": [
        "#### Check if compute_backprop returns the right shape"
      ]
    },
    {
      "cell_type": "code",
      "execution_count": 52,
      "metadata": {
        "colab": {
          "base_uri": "https://localhost:8080/"
        },
        "id": "rTnrDQJZZ8GK",
        "outputId": "2d41f694-43b7-461a-d065-e3cdad32c96c"
      },
      "outputs": [
        {
          "output_type": "stream",
          "name": "stdout",
          "text": [
            "(65, 101)\n",
            "(65, 101)\n",
            "(101, 5)\n",
            "(101, 5)\n"
          ]
        }
      ],
      "source": [
        "theta_grad = compute_backprop(x_train, theta_matrices, cache, initial_outputs, y_train_onehot)\n",
        "dtheta0 = theta_grad['theta0']\n",
        "print(dtheta0.shape)\n",
        "print(theta0.shape)\n",
        "# assert dtheta0.shape == theta0.shape,'bakprop returns wrong shape for theta 0'\n",
        "#这是一个断言语句，用于验证 dtheta0 的形状是否符合预期。断言语句检查 dtheta0 的形状是否与 (n_features + 1, num_hidden + 1) 相同，\n",
        "#其中 n_features 是输入特征的数量，num_hidden 是隐藏层神经元的数量。如果形状不匹配，将引发断言错误\n",
        "##think of what size backprop should be\n",
        "dtheta1 = theta_grad['theta1']\n",
        "print(dtheta1.shape)\n",
        "print(theta1.shape)\n",
        "assert dtheta1.shape == theta1.shape, 'backprop returns wrong shape for theta 1'\n",
        "##think of what size backprop should be"
      ]
    },
    {
      "cell_type": "markdown",
      "metadata": {
        "id": "ZPZChnOKZ8GL"
      },
      "source": [
        "## Step 4: Training the network"
      ]
    },
    {
      "cell_type": "markdown",
      "metadata": {
        "id": "8PbZ25HRZ8GL"
      },
      "source": [
        "Now that you have both forward and backward computation, use batch gradient descent to train the network."
      ]
    },
    {
      "cell_type": "code",
      "execution_count": 84,
      "metadata": {
        "colab": {
          "base_uri": "https://localhost:8080/",
          "height": 467
        },
        "id": "0MKEdtpXZ8GL",
        "outputId": "b522db78-c23b-421d-c19a-68fe7d142e7f"
      },
      "outputs": [
        {
          "output_type": "stream",
          "name": "stdout",
          "text": [
            "training cost: 0.007377\n"
          ]
        },
        {
          "output_type": "display_data",
          "data": {
            "text/plain": [
              "<Figure size 640x480 with 1 Axes>"
            ],
            "image/png": "[encoded data removed]"
          },
          "metadata": {}
        }
      ],
      "source": [
        "alpha = 0.2 # learning rate\n",
        "N_iterations = 200 # You can play with this hyper-parameter to see how the network performs\n",
        "J = np.zeros(N_iterations)#创建一个长度为 N_iterations 的零数组（或零向量）的操作，并将每次cost数值存在相应位置\n",
        "\n",
        "for i in range(N_iterations):\n",
        "    ## Your code\n",
        "    # First, do a forward pass\n",
        "    cache,result=compute_forward(x_train, theta_matrices)\n",
        "    # Calculate the cost and store it in J[i]\n",
        "    J[i]=compute_cost(result, y_train_onehot)\n",
        "    # Calculate the gradients by doing a backward pass\n",
        "    theta_grad=compute_backprop(x, theta_matrices, cache, result, y_train_onehot)\n",
        "    # Update the weights by gradient descent rule\n",
        "    for j, theta in enumerate(theta_matrices):\n",
        "        theta -= alpha * theta_grad[f'theta{j}']\n",
        "\n",
        "\n",
        "# calculate the loss on the whole training set\n",
        "J_train = compute_cost(compute_forward(x_train, theta_matrices)[1], y_train_onehot)\n",
        "print('training cost: %f' %J_train)\n",
        "\n",
        "# plot cost function\n",
        "plt.plot(J)\n",
        "plt.xlabel('Training step')\n",
        "plt.ylabel('Cost')\n",
        "plt.show()"
      ]
    },
    {
      "cell_type": "markdown",
      "metadata": {
        "id": "hPdomKd9Z8GM"
      },
      "source": [
        "## Step 5: Evaluation"
      ]
    },
    {
      "cell_type": "code",
      "execution_count": 85,
      "metadata": {
        "colab": {
          "base_uri": "https://localhost:8080/"
        },
        "id": "URSceI-qZ8GM",
        "outputId": "173d08cd-8817-45ec-a86d-0fa2eacdfb9a"
      },
      "outputs": [
        {
          "output_type": "stream",
          "name": "stdout",
          "text": [
            "accuracy:  0.9171270718232044\n"
          ]
        }
      ],
      "source": [
        "def compute_accuracy(y_ground_truth,y_pred): #of a classification task\n",
        "    correct_predictions = np.sum(y_ground_truth == y_pred)\n",
        "    total_samples = len(y_ground_truth)\n",
        "    accuracy = correct_predictions / total_samples\n",
        "    return accuracy\n",
        "    ### YOUR CODE GOES  HERE ###\n",
        "\n",
        "pred_one_max = compute_forward(x_test, theta_matrices)[1]\n",
        "\n",
        "# Your prediction would be an one-hot vector, for each test sample, select the one with the highest probablity to assign the class\n",
        "pred = np.argmax(pred_one_max, axis=1)## Your code\n",
        "accuracy = compute_accuracy(y_test, pred)\n",
        "print('accuracy: ', accuracy)\n",
        "#according to tune the learning rate manually,i found LR=0.2 the accuracy is highest."
      ]
    },
    {
      "cell_type": "markdown",
      "metadata": {
        "id": "IbB5Xf3eZ8GM"
      },
      "source": [
        "## Challenge: Can you do better than the above model?\n",
        "You can try to tune hyper-parameters, adding regularization, stacking more layers or implement different activation functions (tanh, ReLU)"
      ]
    }
  ],
  "metadata": {
    "anaconda-cloud": {},
    "kernelspec": {
      "display_name": "Python 2",
      "language": "python",
      "name": "python2"
    },
    "language_info": {
      "codemirror_mode": {
        "name": "ipython",
        "version": 2
      },
      "file_extension": ".py",
      "mimetype": "text/x-python",
      "name": "python",
      "nbconvert_exporter": "python",
      "pygments_lexer": "ipython2",
      "version": "2.7.18"
    },
    "colab": {
      "provenance": []
    }
  },
  "nbformat": 4,
  "nbformat_minor": 0
}