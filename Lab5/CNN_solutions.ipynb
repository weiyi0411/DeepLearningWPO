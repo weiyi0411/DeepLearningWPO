{
 "cells": [
  {
   "cell_type": "code",
   "execution_count": 1,
   "id": "6a14837b",
   "metadata": {},
   "outputs": [],
   "source": [
    "import ssl\n",
    "ssl._create_default_https_context = ssl._create_unverified_context"
   ]
  },
  {
   "cell_type": "code",
   "execution_count": 2,
   "id": "055b7b3a",
   "metadata": {},
   "outputs": [],
   "source": [
    "import torch\n",
    "import torch.optim\n",
    "import torch.nn as nn\n",
    "import torch.nn.functional as F\n",
    "import numpy as np\n",
    "import torchvision\n",
    "import torch.utils.data\n",
    "import torchvision.transforms as transforms\n",
    "import torchvision.datasets as datasets\n",
    "import matplotlib.pyplot as plt\n",
    "from tqdm import tqdm\n",
    "device = torch.device(\"cuda\" if torch.cuda.is_available() else \"cpu\")   # use GPU if available"
   ]
  },
  {
   "cell_type": "markdown",
   "id": "8cdcdc68",
   "metadata": {},
   "source": [
    "## **Warmup Exercises**"
   ]
  },
  {
   "cell_type": "code",
   "execution_count": 3,
   "id": "f9be2ff0",
   "metadata": {},
   "outputs": [
    {
     "data": {
      "text/plain": [
       "tensor([[[ 0.4087, -0.8977, -0.5590,  2.0335,  1.0063],\n",
       "         [ 1.8984, -0.2633,  0.0252,  1.7775,  0.5284],\n",
       "         [-0.4471,  0.8396, -1.3039,  1.2150,  1.7191],\n",
       "         [-0.1944, -1.1533,  0.4767, -0.0801,  1.3584],\n",
       "         [ 1.3358,  1.1212, -0.9982,  1.9079,  0.2062]],\n",
       "\n",
       "        [[ 1.5582, -1.2031,  0.5682,  0.8463, -0.3713],\n",
       "         [-1.6906, -0.2856,  0.5294,  0.3256, -2.0775],\n",
       "         [ 1.4707,  0.8503,  0.1308, -0.9875, -0.4715],\n",
       "         [ 0.8590,  1.0694, -0.5381, -0.8723, -0.4405],\n",
       "         [-1.1014, -2.4246,  1.3078,  0.9617, -0.1486]],\n",
       "\n",
       "        [[-0.6786, -1.2791, -0.8645,  1.0667, -0.1196],\n",
       "         [-0.6891, -0.6406,  1.5202,  1.5707, -0.7599],\n",
       "         [ 0.0390,  1.3539,  0.5610, -2.1026, -0.3495],\n",
       "         [-0.5113, -0.9394,  0.8939,  0.4001, -0.6020],\n",
       "         [ 1.3717,  0.9289,  0.7351, -0.8939,  0.2392]]])"
      ]
     },
     "execution_count": 3,
     "metadata": {},
     "output_type": "execute_result"
    }
   ],
   "source": [
    "# create a random tensor\n",
    "x = torch.randn(3,5,5)\n",
    "x"
   ]
  },
  {
   "cell_type": "code",
   "execution_count": 4,
   "id": "dc94793e",
   "metadata": {},
   "outputs": [
    {
     "data": {
      "text/plain": [
       "torch.Size([3, 5, 5])"
      ]
     },
     "execution_count": 4,
     "metadata": {},
     "output_type": "execute_result"
    }
   ],
   "source": [
    "x.shape"
   ]
  },
  {
   "cell_type": "markdown",
   "id": "c803b14f",
   "metadata": {},
   "source": [
    "What will be the output of a Max Pooling Operation (using [torch.nn.functional.max_pool2d](https://pytorch.org/docs/stable/generated/torch.nn.functional.max_pool2d.html)) with a kernal size of 3x3 and a stride of 2?"
   ]
  },
  {
   "cell_type": "code",
   "execution_count": 5,
   "id": "9e4d7ef4",
   "metadata": {},
   "outputs": [
    {
     "name": "stdout",
     "output_type": "stream",
     "text": [
      "tensor([[[1.8984, 2.0335],\n",
      "         [1.3358, 1.9079]],\n",
      "\n",
      "        [[1.5582, 0.8463],\n",
      "         [1.4707, 1.3078]],\n",
      "\n",
      "        [[1.5202, 1.5707],\n",
      "         [1.3717, 0.8939]]])\n",
      "torch.Size([3, 2, 2])\n"
     ]
    }
   ],
   "source": [
    "result = F.max_pool2d(x, 3, 2)\n",
    "print(result)\n",
    "print(result.shape)"
   ]
  },
  {
   "cell_type": "markdown",
   "id": "70736834",
   "metadata": {},
   "source": [
    "Now do the same but using [nn.MaxPool2d](https://pytorch.org/docs/stable/generated/torch.nn.MaxPool2d.html). Do you get the same result?"
   ]
  },
  {
   "cell_type": "code",
   "execution_count": 6,
   "id": "62a75bc9",
   "metadata": {},
   "outputs": [
    {
     "name": "stdout",
     "output_type": "stream",
     "text": [
      "tensor([[[1.8984, 2.0335],\n",
      "         [1.3358, 1.9079]],\n",
      "\n",
      "        [[1.5582, 0.8463],\n",
      "         [1.4707, 1.3078]],\n",
      "\n",
      "        [[1.5202, 1.5707],\n",
      "         [1.3717, 0.8939]]])\n",
      "torch.Size([3, 2, 2])\n"
     ]
    }
   ],
   "source": [
    "maxpool_layer = nn.MaxPool2d(kernel_size=3, stride=2)\n",
    "result = maxpool_layer(x)\n",
    "print(result)\n",
    "print(result.shape)"
   ]
  },
  {
   "cell_type": "markdown",
   "id": "12dd6cf5",
   "metadata": {},
   "source": [
    "See [this](https://ezyang.github.io/convolution-visualizer/) for a nice visualization of convolution"
   ]
  },
  {
   "cell_type": "markdown",
   "id": "3c372d7b",
   "metadata": {},
   "source": [
    "Now we will explore using the [nn.Conv2D](https://pytorch.org/docs/stable/generated/torch.nn.Conv2d.html) funtion. It takes the following parameters: \n",
    "<br>\n",
    "`nn.Conv2d(in_channels, out_channels, kernel_size, stride=1, padding=0, dilation=1)`"
   ]
  },
  {
   "cell_type": "code",
   "execution_count": 11,
   "id": "dc5cbb76",
   "metadata": {},
   "outputs": [],
   "source": [
    "# create a random RGB tensor of size 10x10\n",
    "x = torch.rand(4,10,10)"
   ]
  },
  {
   "cell_type": "code",
   "execution_count": 12,
   "id": "b98dfbc8",
   "metadata": {},
   "outputs": [
    {
     "data": {
      "text/plain": [
       "torch.Size([4, 10, 10])"
      ]
     },
     "execution_count": 12,
     "metadata": {},
     "output_type": "execute_result"
    }
   ],
   "source": [
    "x.shape"
   ]
  },
  {
   "cell_type": "code",
   "execution_count": 17,
   "id": "b2bb8ea6",
   "metadata": {},
   "outputs": [
    {
     "name": "stdout",
     "output_type": "stream",
     "text": [
      "torch.Size([5, 8, 8])\n"
     ]
    }
   ],
   "source": [
    "# apply a convolutional layer with 5 filters, each of size 3x3, with a stride of 1. What will be the shape?\n",
    "conv_layer = nn.Conv2d(4, 5, 3, stride=1)\n",
    "print(conv_layer(x).shape)"
   ]
  },
  {
   "cell_type": "markdown",
   "id": "052cb544",
   "metadata": {},
   "source": [
    "The spatial dimension has reduced to 8x8. Why? Can you fix it so that the spatial dimension does not change?\n",
    "<br>\n",
    "<br>\n",
    "**Recall**: Formula for *same padding*: $\\dfrac{kernel size - 1}{2}$"
   ]
  },
  {
   "cell_type": "code",
   "execution_count": 18,
   "id": "843051d1",
   "metadata": {},
   "outputs": [
    {
     "name": "stdout",
     "output_type": "stream",
     "text": [
      "torch.Size([5, 10, 10])\n"
     ]
    }
   ],
   "source": [
    "conv_layer = nn.Conv2d(4, 5, 3, stride=1, padding = 1)\n",
    "print(conv_layer(x).shape)"
   ]
  },
  {
   "cell_type": "markdown",
   "id": "3c596753",
   "metadata": {},
   "source": [
    "What is the shape of the weights for the convolutional layer?"
   ]
  },
  {
   "cell_type": "code",
   "execution_count": 19,
   "id": "a1e9de0c",
   "metadata": {},
   "outputs": [
    {
     "name": "stdout",
     "output_type": "stream",
     "text": [
      "torch.Size([5, 4, 3, 3])\n"
     ]
    }
   ],
   "source": [
    "print(conv_layer.weight.shape)"
   ]
  },
  {
   "cell_type": "markdown",
   "id": "604226a1",
   "metadata": {},
   "source": [
    "Now assume you have an input with a batch size of 16, 20 channels, and a spatial dimension of 100x60. You want your resulting output tensor after Max Pooling to be of shape (16, 20, 25, 25). What parameters of the Max Pooling would you choose?"
   ]
  },
  {
   "cell_type": "code",
   "execution_count": 15,
   "id": "09c7d786",
   "metadata": {},
   "outputs": [
    {
     "name": "stdout",
     "output_type": "stream",
     "text": [
      "torch.Size([16, 20, 25, 25])\n"
     ]
    }
   ],
   "source": [
    "input = torch.randn(16, 20, 100, 100)\n",
    "\n",
    "maxpool_layer = nn.MaxPool2d(kernel_size=4, stride=4)\n",
    "output1 = maxpool_layer(input)\n",
    "print(output1.shape)"
   ]
  },
  {
   "cell_type": "markdown",
   "id": "89ba5769",
   "metadata": {},
   "source": [
    "Can you achieve the same thing but using the stride of a convolution operator instead?"
   ]
  },
  {
   "cell_type": "code",
   "execution_count": 16,
   "id": "ec7f6f82",
   "metadata": {},
   "outputs": [
    {
     "name": "stdout",
     "output_type": "stream",
     "text": [
      "torch.Size([16, 20, 25, 25])\n"
     ]
    }
   ],
   "source": [
    "conv_layer = nn.Conv2d(20, 20, 3, stride=4, padding = 1)\n",
    "output2 = conv_layer(input)\n",
    "print(output2.shape)"
   ]
  },
  {
   "cell_type": "markdown",
   "id": "d4dc0a32",
   "metadata": {},
   "source": [
    "### Convolutional Networks"
   ]
  },
  {
   "cell_type": "markdown",
   "id": "8b1f9106",
   "metadata": {},
   "source": [
    "#### Part 1: Data Pre-processing"
   ]
  },
  {
   "cell_type": "markdown",
   "id": "e3ad8265",
   "metadata": {},
   "source": [
    "1. Data Transforms\n",
    "\n",
    "Use [torchvision.transforms](https://pytorch.org/vision/0.9/transforms.html) as a reference. Apply data transformations to the training images such that you\n",
    "- Crop a random portion of image and resize it to a size of 32x32\n",
    "- Apply random horizantal flipping as a data augmentation strategy. You can check other data augmentations [here](https://pytorch.org/vision/main/auto_examples/transforms/plot_transforms_illustrations.html#sphx-glr-auto-examples-transforms-plot-transforms-illustrations-py)\n",
    "- Transform it to a PyTorch Tensor with scaled values between 0-1\n",
    "- Standardize it such that it has a mean of zero and standard deviation of 1\n",
    "\n",
    "For the test images, only perform the last two steps\n",
    "\n",
    "Note: \n",
    "- The mean of the CIFAR dataset for each of the RGB Channels is: `(0.4914, 0.4822, 0.4465)`\n",
    "- The standard deviation of the CIFAR dataset for each of the RGB channels is: `(0.2023, 0.1994, 0.2010)`"
   ]
  },
  {
   "cell_type": "code",
   "execution_count": 21,
   "id": "f5f533b1",
   "metadata": {},
   "outputs": [],
   "source": [
    "transform_train = transforms.Compose([transforms.RandomResizedCrop(32),\n",
    "                                      transforms.RandomHorizontalFlip(),\n",
    "                                      transforms.ToTensor(),\n",
    "                                      transforms.Normalize((0.4914, 0.4822, 0.4465), (0.2023, 0.1994, 0.2010))])\n",
    "\n",
    "transform_test = transforms.Compose([transforms.ToTensor(),\n",
    "                                     transforms.Normalize((0.4914, 0.4822, 0.4465), (0.2023, 0.1994, 0.2010))])"
   ]
  },
  {
   "cell_type": "markdown",
   "id": "5ee0c6d3",
   "metadata": {},
   "source": [
    "We will work with the CIFAR10 dataset. It is a dataset of 60,000 32x32 colour images in 10 classes, with 6000 images per class. There are 50,000 training images and 10,000 test images.\n",
    "\n",
    "2. Load (and download if you havent already done so) the training and testing datasets using [torchvision.datasets](https://pytorch.org/vision/main/generated/torchvision.datasets.CIFAR10.html). Specify the transforms that you have already defined in the previous step. "
   ]
  },
  {
   "cell_type": "code",
   "execution_count": 22,
   "id": "6424760d",
   "metadata": {},
   "outputs": [
    {
     "name": "stdout",
     "output_type": "stream",
     "text": [
      "Files already downloaded and verified\n",
      "Files already downloaded and verified\n"
     ]
    }
   ],
   "source": [
    "trainset = torchvision.datasets.CIFAR10(root='./data', train=True, download=True, transform=transform_train)\n",
    "testset = torchvision.datasets.CIFAR10(root='./data', train=False, download=True, transform=transform_test)"
   ]
  },
  {
   "cell_type": "markdown",
   "id": "3e9c1b28",
   "metadata": {},
   "source": [
    "3. Define your data loader. Use a batch size of 128 for training and 100 for testing. Make sure you shuffle the data loading process in the training set!"
   ]
  },
  {
   "cell_type": "code",
   "execution_count": 23,
   "id": "76472807",
   "metadata": {},
   "outputs": [],
   "source": [
    "trainloader = torch.utils.data.DataLoader(trainset, batch_size=128, shuffle=True)\n",
    "testloader = torch.utils.data.DataLoader(testset, batch_size=100, shuffle=False)"
   ]
  },
  {
   "cell_type": "markdown",
   "id": "94a7589a",
   "metadata": {},
   "source": [
    "Let's visualize some of the images from the dataset"
   ]
  },
  {
   "cell_type": "code",
   "execution_count": 24,
   "id": "6a73b249",
   "metadata": {},
   "outputs": [],
   "source": [
    "classes = ('plane', 'car', 'bird', 'cat', 'deer', 'dog', 'frog', 'horse', 'ship', 'truck')\n",
    "\n",
    "def imshow(inp):\n",
    "    \"\"\"Display image from a PyTorch Tensor.\"\"\"\n",
    "    inp = inp.numpy().transpose((1, 2, 0))\n",
    "    mean = np.array([0.4914, 0.4822, 0.4465])\n",
    "    std = np.array([0.2023, 0.1994, 0.2010])\n",
    "    inp = std * inp + mean\n",
    "    inp = np.clip(inp, 0, 1)\n",
    "    return inp"
   ]
  },
  {
   "cell_type": "code",
   "execution_count": 28,
   "id": "1920c78b",
   "metadata": {},
   "outputs": [
    {
     "name": "stdout",
     "output_type": "stream",
     "text": [
      "torch.Size([128, 3, 32, 32])\n",
      "torch.Size([128])\n"
     ]
    }
   ],
   "source": [
    "# get some random training images\n",
    "images, labels = next(iter(trainloader))\n",
    "print(images.shape)\n",
    "print(labels.shape)"
   ]
  },
  {
   "cell_type": "code",
   "execution_count": 29,
   "id": "dd91a800",
   "metadata": {},
   "outputs": [
    {
     "name": "stdout",
     "output_type": "stream",
     "text": [
      "tensor([5, 9, 6, 4])\n",
      "dog, truck, frog, deer\n"
     ]
    }
   ],
   "source": [
    "# let's have a look at the labels for the first 4 loaded images \n",
    "print(labels[:4])\n",
    "# if we would like to map them to human-readble text labels\n",
    "print(', '.join([classes[labels[b]] for b in range(4)]))"
   ]
  },
  {
   "cell_type": "code",
   "execution_count": 30,
   "id": "d5f24fe2",
   "metadata": {},
   "outputs": [
    {
     "data": {
      "image/png": "[encoded data removed]",
      "text/plain": [
       "<Figure size 1000x1000 with 4 Axes>"
      ]
     },
     "metadata": {},
     "output_type": "display_data"
    }
   ],
   "source": [
    "num_images_to_show = 4\n",
    "fig, axs = plt.subplots(1, num_images_to_show, figsize=(10,10))\n",
    "np.vectorize(lambda ax:ax.axis('off'))(axs)\n",
    "\n",
    "for j in range(num_images_to_show):\n",
    "    axs[j].imshow(imshow(images[j]))\n",
    "    axs[j].set_title(classes[labels[j].item()])\n",
    "    \n",
    "plt.subplots_adjust(wspace=0.1, hspace = 0)"
   ]
  },
  {
   "cell_type": "markdown",
   "id": "8dd60cf5",
   "metadata": {},
   "source": [
    "#### Part 2: Defining the Convolutional Network"
   ]
  },
  {
   "cell_type": "markdown",
   "id": "412f2e00",
   "metadata": {},
   "source": [
    "Implement a CNN architecture as described below:\n",
    "\n",
    "- Use three convolutional layers, each with a filter size of 3x3. Make sure you preserve the spatial dimension after each convolutional operation. The first two convolutional opertation are followed by Max Pooling of (2x2) with a stride of 2. Please use ReLU as an activation funtion. \n",
    "- The number of channels of each output convolutional layer should gradually increase to 126 throught the training. \n",
    "- The final convolutional layer is followed by **global** average pooling\n",
    "- The resulting features is fed into a fully-connecetd layer which maps the features into 64 features (use a ReLU activation funtion and Dropout with a drop probability of 0.1)\n",
    "- The final 64 features are fed into the classifier\n",
    "\n",
    "**Note**: You need to keep track of the channels and spatial dimensions of the resulting outputs after each step, because you will need to define the dimension of the fully-connected layers!"
   ]
  },
  {
   "cell_type": "code",
   "execution_count": 37,
   "id": "200964cb",
   "metadata": {},
   "outputs": [],
   "source": [
    "class CNN(nn.Module):  \n",
    "    def __init__(self, increase_factor = 42):\n",
    "        super().__init__()\n",
    "        # define all the layer we need. They do not have to be in order here. \n",
    "        self.conv1 = nn.Conv2d(3, increase_factor, 3, 1)    # \n",
    "        self.conv2 = nn.Conv2d(increase_factor, increase_factor * 2, 3, 1)\n",
    "        self.conv3 = nn.Conv2d(increase_factor * 2, increase_factor * 3, 3, 1)\n",
    "        self.pool = nn.MaxPool2d(2, 2)\n",
    "        self.fc = nn.Linear(increase_factor * 3, 64)\n",
    "        self.classifier = nn.Linear(64, 10)\n",
    "        self.dropout = nn.Dropout(0.1)\n",
    "\n",
    "    def forward(self, x):   # (N, 3, 32, 32)\n",
    "        x = self.pool(F.relu(self.conv1(x)))   # (N, 42, 32, 32) --> pool --> (N, 42, 16, 16) \n",
    "        x = self.pool(F.relu(self.conv2(x)))   # (N, 84, 16, 16) --> pool --> (N, 42, 8, 8) \n",
    "        x = F.relu(self.conv3(x))              # (N, 126, 8, 8)\n",
    "        x = x.mean(dim = [-1, -2])             # (N, 126)\n",
    "        x = self.dropout(F.relu(self.fc(x)))   # (N, 64)\n",
    "        x = self.classifier(x)                 # (N, 10)\n",
    "        return x"
   ]
  },
  {
   "cell_type": "markdown",
   "id": "d98f3f87",
   "metadata": {},
   "source": [
    "Create an instance of your model and run it with a random tensor to ensure there is no error. Also check that the output shape is (N, 10) where N is your batch size. **Note**: If you are using a GPU, make sure to move both your model AND input tensor to the GPU device"
   ]
  },
  {
   "cell_type": "code",
   "execution_count": 38,
   "id": "37e9a857",
   "metadata": {},
   "outputs": [
    {
     "name": "stdout",
     "output_type": "stream",
     "text": [
      "torch.Size([1, 10])\n"
     ]
    }
   ],
   "source": [
    "model = CNN().to(device)\n",
    "random_input = torch.randn(1,3,32,32).to(device)\n",
    "print(model(random_input).shape)"
   ]
  },
  {
   "cell_type": "markdown",
   "id": "48377b41",
   "metadata": {},
   "source": [
    "Refer to the [torch.optim](https://pytorch.org/docs/stable/optim.html) library. Define the optimizer and learning rate. Use SGD with momentum, with an initial learning rate of 0.01"
   ]
  },
  {
   "cell_type": "code",
   "execution_count": null,
   "id": "b669fde9",
   "metadata": {},
   "outputs": [],
   "source": [
    "optimizer = torch.optim.SGD(model.parameters(), lr=0.01, momentum=0.9)"
   ]
  },
  {
   "cell_type": "markdown",
   "id": "eeae6771",
   "metadata": {},
   "source": [
    "Define the learning rate scheduler (use [cosine annealing](https://pytorch.org/docs/stable/generated/torch.optim.lr_scheduler.CosineAnnealingLR.html#torch.optim.lr_scheduler.CosineAnnealingLR)) and plot the learning rate variation for 100 epochs. "
   ]
  },
  {
   "cell_type": "code",
   "execution_count": null,
   "id": "9520f5b5",
   "metadata": {},
   "outputs": [],
   "source": [
    "epochs = 100\n",
    "scheduler = torch.optim.lr_scheduler.CosineAnnealingLR(optimizer, T_max=epochs)\n",
    "\n",
    "lrs = []\n",
    "for _ in range(epochs):\n",
    "    lrs.append(scheduler.get_last_lr())\n",
    "    scheduler.step()\n",
    "    \n",
    "plt.plot(lrs)\n",
    "plt.xlabel('epochs')\n",
    "plt.ylabel('learning rate')"
   ]
  },
  {
   "cell_type": "markdown",
   "id": "ba10cd0c",
   "metadata": {},
   "source": [
    "now define the loss funtion. We will use the [cross-entropy](https://pytorch.org/docs/stable/generated/torch.nn.CrossEntropyLoss.html) loss (also see the input shapes that this loss expects to know how to call it later). Note that this loss applied Softmax on the class logits, and therefore you do not need to define the softmax. This loss is equivalent to applying [LogSoftmax](https://pytorch.org/docs/stable/generated/torch.nn.LogSoftmax.html#torch.nn.LogSoftmax) on an input, followed by [NLLLoss](https://pytorch.org/docs/stable/generated/torch.nn.NLLLoss.html#torch.nn.NLLLoss). "
   ]
  },
  {
   "cell_type": "code",
   "execution_count": null,
   "id": "8107116e",
   "metadata": {},
   "outputs": [],
   "source": [
    "epochs = 100\n",
    "optimizer = torch.optim.SGD(model.parameters(), lr=0.01, momentum=0.9)\n",
    "scheduler = torch.optim.lr_scheduler.CosineAnnealingLR(optimizer, T_max=epochs)\n",
    "criterion = nn.CrossEntropyLoss()"
   ]
  },
  {
   "cell_type": "markdown",
   "id": "e86fd4ee",
   "metadata": {},
   "source": [
    "Write the training loop funtion for one iteration.\n",
    "\n",
    "- Set the model to training mode (since we use dropout which has a different behaviour in training and testing)\n",
    "- Iterarate through your data loader. Zero-out accumulated gradients in the computation graph, run the inputs to your model and get the outputs, calculate the loss, backpropogate the loss to calculate gradients, and then update the weights\n",
    "- Your training funtion should return the averaged loss and accuracy at the epoch"
   ]
  },
  {
   "cell_type": "code",
   "execution_count": null,
   "id": "029c7ea2",
   "metadata": {},
   "outputs": [],
   "source": [
    "print_every = 200\n",
    "def train(epoch):\n",
    "    model.train()\n",
    "    train_loss = 0\n",
    "    correct = 0\n",
    "    total = 0\n",
    "    for batch_idx, (inputs, targets) in enumerate(trainloader):\n",
    "        inputs, targets = inputs.to(device), targets.to(device)\n",
    "        optimizer.zero_grad()\n",
    "        outputs = model(inputs)\n",
    "        loss = criterion(outputs, targets)\n",
    "        loss.backward()\n",
    "        optimizer.step()\n",
    "\n",
    "        train_loss += loss.item()\n",
    "        _, predicted = outputs.max(1)\n",
    "        total += targets.size(0)\n",
    "        correct += predicted.eq(targets).sum().item()\n",
    "        \n",
    "        epoch_loss = train_loss/(batch_idx+1)\n",
    "        epoch_acc = 100.*correct/total\n",
    "        \n",
    "        if batch_idx % print_every == 0:\n",
    "            print('Epoch {}/{}, Iter {}/{}, Train Loss: {:.3f}, Train Accuracy: {:.3f}'.format(epoch, epochs, batch_idx, len(trainloader),\n",
    "                                                                                   epoch_loss, epoch_acc))\n",
    "    return epoch_loss, epoch_acc"
   ]
  },
  {
   "cell_type": "markdown",
   "id": "0d8a7c5a",
   "metadata": {},
   "source": [
    "Write the testing funtion to get the test accuracy and test loss (minimal modifications to the training funtion)"
   ]
  },
  {
   "cell_type": "code",
   "execution_count": null,
   "id": "ad6bc579",
   "metadata": {},
   "outputs": [],
   "source": [
    "def test():\n",
    "    model.eval()\n",
    "    test_loss = 0\n",
    "    correct = 0\n",
    "    total = 0\n",
    "    with torch.no_grad():\n",
    "        for batch_idx, (inputs, targets) in enumerate(tqdm(testloader)):\n",
    "            inputs, targets = inputs.to(device), targets.to(device)\n",
    "            outputs = model(inputs)\n",
    "            loss = criterion(outputs, targets)\n",
    "\n",
    "            test_loss += loss.item()\n",
    "            _, predicted = outputs.max(1)\n",
    "            total += targets.size(0)\n",
    "            correct += predicted.eq(targets).sum().item()\n",
    "\n",
    "    acc = 100.*correct/total\n",
    "    loss = test_loss/(batch_idx+1)\n",
    "    print('Test Accuracy: {:.3f}, Test Loss: {:.3f}'.format(acc, loss))\n",
    "    return acc"
   ]
  },
  {
   "cell_type": "markdown",
   "id": "24f4d9e9",
   "metadata": {},
   "source": [
    "Loop over all the epochs:\n",
    "\n",
    "- Run the training funtion\n",
    "- Save the losses and accuracies returned at each epoch\n",
    "- Run the test funtion\n",
    "- Save the model/Overwrite the previously saved one if the accuracy improved from the last epoch. Refer [here](https://pytorch.org/tutorials/beginner/saving_loading_models.html)\n",
    "\n",
    "**as a reference** for this model, you should get a **test accuracy** of ~ 76% after training for the first 50 epochs"
   ]
  },
  {
   "cell_type": "code",
   "execution_count": null,
   "id": "87bdbc69",
   "metadata": {},
   "outputs": [],
   "source": [
    "best_acc = 0\n",
    "\n",
    "losses = []\n",
    "accuracies = []\n",
    "\n",
    "for epoch in range(epochs):\n",
    "    epoch_loss, epoch_acc = train(epoch)\n",
    "    losses.append(epoch_loss)\n",
    "    accuracies.append(epoch_acc)\n",
    "    scheduler.step()\n",
    "    acc = test()\n",
    "    state = {'model': model.state_dict(),\n",
    "             'acc': acc,\n",
    "             'epoch': epoch}\n",
    "    if acc > best_acc: \n",
    "        torch.save(state, 'model.pth')\n",
    "        best_acc = acc"
   ]
  },
  {
   "cell_type": "code",
   "execution_count": null,
   "id": "5af34911",
   "metadata": {},
   "outputs": [],
   "source": [
    "plt.plot(losses)\n",
    "plt.xlabel('epoch')\n",
    "plt.ylabel('train loss')"
   ]
  },
  {
   "cell_type": "code",
   "execution_count": null,
   "id": "10f90ad0",
   "metadata": {},
   "outputs": [],
   "source": [
    "plt.plot(accuracies)\n",
    "plt.xlabel('epoch')\n",
    "plt.ylabel('train accuracy')"
   ]
  },
  {
   "cell_type": "markdown",
   "id": "1eb182e9",
   "metadata": {},
   "source": [
    "### Next Steps (advanced)\n",
    "The architecture we implemented is at its very basic, and dates back to 1998. Since 2012, there has been a tremendous amount of new CNN architectures, better regularization techniques and better activation funtions available. [this repo](https://github.com/kuangliu/pytorch-cifar) offers most of the models, and reports their accuracy on CIFAR10. If you are a pro, check out [this](https://pytorch.org/blog/how-to-train-state-of-the-art-models-using-torchvision-latest-primitives/) also!\n",
    "\n",
    "Give it a try!"
   ]
  },
  {
   "cell_type": "code",
   "execution_count": null,
   "id": "78862f66",
   "metadata": {},
   "outputs": [],
   "source": []
  }
 ],
 "metadata": {
  "kernelspec": {
   "display_name": "Python 3 (ipykernel)",
   "language": "python",
   "name": "python3"
  },
  "language_info": {
   "codemirror_mode": {
    "name": "ipython",
    "version": 3
   },
   "file_extension": ".py",
   "mimetype": "text/x-python",
   "name": "python",
   "nbconvert_exporter": "python",
   "pygments_lexer": "ipython3",
   "version": "3.9.13"
  }
 },
 "nbformat": 4,
 "nbformat_minor": 5
}
